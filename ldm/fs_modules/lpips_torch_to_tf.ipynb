{
  "cells": [
    {
      "cell_type": "markdown",
      "metadata": {
        "id": "kybuMUzjpNJ3"
      },
      "source": [
        "Download & import the necessary modules for torch to tensorflow conversion"
      ]
    },
    {
      "cell_type": "code",
      "execution_count": null,
      "metadata": {
        "colab": {
          "background_save": true,
          "base_uri": "https://localhost:8080/"
        },
        "id": "eW622sCh8vTF",
        "outputId": "b890b622-33e4-4791-8c45-48d40960f0a4"
      },
      "outputs": [
        {
          "name": "stdout",
          "output_type": "stream",
          "text": [
            "Collecting onnx\n",
            "  Downloading onnx-1.15.0-cp310-cp310-manylinux_2_17_x86_64.manylinux2014_x86_64.whl (15.7 MB)\n",
            "\u001b[2K     \u001b[90m━━━━━━━━━━━━━━━━━━━━━━━━━━━━━━━━━━━━━━━━\u001b[0m \u001b[32m15.7/15.7 MB\u001b[0m \u001b[31m60.4 MB/s\u001b[0m eta \u001b[36m0:00:00\u001b[0m\n",
            "\u001b[?25hRequirement already satisfied: numpy in /usr/local/lib/python3.10/dist-packages (from onnx) (1.23.5)\n",
            "Requirement already satisfied: protobuf>=3.20.2 in /usr/local/lib/python3.10/dist-packages (from onnx) (3.20.3)\n",
            "Installing collected packages: onnx\n",
            "Successfully installed onnx-1.15.0\n",
            "Collecting onnx_tf\n",
            "  Downloading onnx_tf-1.10.0-py3-none-any.whl (226 kB)\n",
            "\u001b[2K     \u001b[90m━━━━━━━━━━━━━━━━━━━━━━━━━━━━━━━━━━━━━━━━\u001b[0m \u001b[32m226.1/226.1 kB\u001b[0m \u001b[31m1.4 MB/s\u001b[0m eta \u001b[36m0:00:00\u001b[0m\n",
            "\u001b[?25hRequirement already satisfied: onnx>=1.10.2 in /usr/local/lib/python3.10/dist-packages (from onnx_tf) (1.15.0)\n",
            "Requirement already satisfied: PyYAML in /usr/local/lib/python3.10/dist-packages (from onnx_tf) (6.0.1)\n",
            "Collecting tensorflow-addons (from onnx_tf)\n",
            "  Downloading tensorflow_addons-0.23.0-cp310-cp310-manylinux_2_17_x86_64.manylinux2014_x86_64.whl (611 kB)\n",
            "\u001b[2K     \u001b[90m━━━━━━━━━━━━━━━━━━━━━━━━━━━━━━━━━━━━━━━━\u001b[0m \u001b[32m611.8/611.8 kB\u001b[0m \u001b[31m12.8 MB/s\u001b[0m eta \u001b[36m0:00:00\u001b[0m\n",
            "\u001b[?25hRequirement already satisfied: numpy in /usr/local/lib/python3.10/dist-packages (from onnx>=1.10.2->onnx_tf) (1.23.5)\n",
            "Requirement already satisfied: protobuf>=3.20.2 in /usr/local/lib/python3.10/dist-packages (from onnx>=1.10.2->onnx_tf) (3.20.3)\n",
            "Requirement already satisfied: packaging in /usr/local/lib/python3.10/dist-packages (from tensorflow-addons->onnx_tf) (23.2)\n",
            "Collecting typeguard<3.0.0,>=2.7 (from tensorflow-addons->onnx_tf)\n",
            "  Downloading typeguard-2.13.3-py3-none-any.whl (17 kB)\n",
            "Installing collected packages: typeguard, tensorflow-addons, onnx_tf\n",
            "Successfully installed onnx_tf-1.10.0 tensorflow-addons-0.23.0 typeguard-2.13.3\n",
            "Collecting tf2onnx\n",
            "  Downloading tf2onnx-1.16.1-py3-none-any.whl (455 kB)\n",
            "\u001b[2K     \u001b[90m━━━━━━━━━━━━━━━━━━━━━━━━━━━━━━━━━━━━━━━━\u001b[0m \u001b[32m455.8/455.8 kB\u001b[0m \u001b[31m3.7 MB/s\u001b[0m eta \u001b[36m0:00:00\u001b[0m\n",
            "\u001b[?25hRequirement already satisfied: numpy>=1.14.1 in /usr/local/lib/python3.10/dist-packages (from tf2onnx) (1.23.5)\n",
            "Requirement already satisfied: onnx>=1.4.1 in /usr/local/lib/python3.10/dist-packages (from tf2onnx) (1.15.0)\n",
            "Requirement already satisfied: requests in /usr/local/lib/python3.10/dist-packages (from tf2onnx) (2.31.0)\n",
            "Requirement already satisfied: six in /usr/local/lib/python3.10/dist-packages (from tf2onnx) (1.16.0)\n",
            "Requirement already satisfied: flatbuffers>=1.12 in /usr/local/lib/python3.10/dist-packages (from tf2onnx) (23.5.26)\n",
            "Requirement already satisfied: protobuf~=3.20 in /usr/local/lib/python3.10/dist-packages (from tf2onnx) (3.20.3)\n",
            "Requirement already satisfied: charset-normalizer<4,>=2 in /usr/local/lib/python3.10/dist-packages (from requests->tf2onnx) (3.3.2)\n",
            "Requirement already satisfied: idna<4,>=2.5 in /usr/local/lib/python3.10/dist-packages (from requests->tf2onnx) (3.6)\n",
            "Requirement already satisfied: urllib3<3,>=1.21.1 in /usr/local/lib/python3.10/dist-packages (from requests->tf2onnx) (2.0.7)\n",
            "Requirement already satisfied: certifi>=2017.4.17 in /usr/local/lib/python3.10/dist-packages (from requests->tf2onnx) (2023.11.17)\n",
            "Installing collected packages: tf2onnx\n",
            "Successfully installed tf2onnx-1.16.1\n",
            "Requirement already satisfied: onnx in /usr/local/lib/python3.10/dist-packages (1.15.0)\n",
            "Requirement already satisfied: onnx-tf in /usr/local/lib/python3.10/dist-packages (1.10.0)\n",
            "Requirement already satisfied: numpy in /usr/local/lib/python3.10/dist-packages (from onnx) (1.23.5)\n",
            "Requirement already satisfied: protobuf>=3.20.2 in /usr/local/lib/python3.10/dist-packages (from onnx) (3.20.3)\n",
            "Requirement already satisfied: PyYAML in /usr/local/lib/python3.10/dist-packages (from onnx-tf) (6.0.1)\n",
            "Requirement already satisfied: tensorflow-addons in /usr/local/lib/python3.10/dist-packages (from onnx-tf) (0.23.0)\n",
            "Requirement already satisfied: packaging in /usr/local/lib/python3.10/dist-packages (from tensorflow-addons->onnx-tf) (23.2)\n",
            "Requirement already satisfied: typeguard<3.0.0,>=2.7 in /usr/local/lib/python3.10/dist-packages (from tensorflow-addons->onnx-tf) (2.13.3)\n"
          ]
        }
      ],
      "source": [
        "!pip install onnx\n",
        "!pip install onnx_tf\n",
        "!pip install tf2onnx\n",
        "!pip install --upgrade onnx onnx-tf"
      ]
    },
    {
      "cell_type": "code",
      "execution_count": null,
      "metadata": {
        "colab": {
          "background_save": true
        },
        "id": "rqkMIr5opSsj"
      },
      "outputs": [],
      "source": [
        "import matplotlib.pyplot as plt\n",
        "import numpy as np\n",
        "import urllib\n",
        "import sys\n",
        "import cv2\n",
        "import os"
      ]
    },
    {
      "cell_type": "code",
      "execution_count": null,
      "metadata": {
        "colab": {
          "background_save": true,
          "base_uri": "https://localhost:8080/"
        },
        "id": "cInlXe3gkzCF",
        "outputId": "0199fdc6-e46b-4fc1-8153-60c04cf928e4"
      },
      "outputs": [
        {
          "name": "stderr",
          "output_type": "stream",
          "text": [
            "/usr/local/lib/python3.10/dist-packages/tensorflow_addons/utils/tfa_eol_msg.py:23: UserWarning: \n",
            "\n",
            "TensorFlow Addons (TFA) has ended development and introduction of new features.\n",
            "TFA has entered a minimal maintenance and release mode until a planned end of life in May 2024.\n",
            "Please modify downstream libraries to take dependencies from other repositories in our TensorFlow community (e.g. Keras, Keras-CV, and Keras-NLP). \n",
            "\n",
            "For more information see: https://github.com/tensorflow/addons/issues/2807 \n",
            "\n",
            "  warnings.warn(\n"
          ]
        }
      ],
      "source": [
        "from onnx_tf.backend import prepare\n",
        "from onnx import helper\n",
        "import onnx"
      ]
    },
    {
      "cell_type": "code",
      "execution_count": null,
      "metadata": {
        "colab": {
          "background_save": true
        },
        "id": "U-da1wF3QF3f"
      },
      "outputs": [],
      "source": [
        "import tensorflow as tf\n",
        "import torch"
      ]
    },
    {
      "cell_type": "code",
      "execution_count": null,
      "metadata": {
        "colab": {
          "background_save": true,
          "base_uri": "https://localhost:8080/"
        },
        "id": "w-s7_1mFnHRd",
        "outputId": "cb35e49c-d875-4df2-e0d2-17a50e829eda"
      },
      "outputs": [
        {
          "name": "stdout",
          "output_type": "stream",
          "text": [
            "--2024-01-25 07:33:51--  https://images.unsplash.com/photo-1608848461950-0fe51dfc41cb?q=80&w=1000&auto=format&fit=crop&ixlib=rb-4.0.3&ixid=M3wxMjA3fDB8MHxleHBsb3JlLWZlZWR8MXx8fGVufDB8fHx8fA%3D%3D\n",
            "Resolving images.unsplash.com (images.unsplash.com)... 146.75.78.208, 2a04:4e42:83::720\n",
            "Connecting to images.unsplash.com (images.unsplash.com)|146.75.78.208|:443... connected.\n",
            "HTTP request sent, awaiting response... 200 OK\n",
            "Length: 247743 (242K) [image/jpeg]\n",
            "Saving to: ‘photo-1608848461950-0fe51dfc41cb?q=80&w=1000&auto=format&fit=crop&ixlib=rb-4.0.3&ixid=M3wxMjA3fDB8MHxleHBsb3JlLWZlZWR8MXx8fGVufDB8fHx8fA==’\n",
            "\n",
            "\r          photo-160   0%[                    ]       0  --.-KB/s               \rphoto-1608848461950 100%[===================>] 241.94K  --.-KB/s    in 0.03s   \n",
            "\n",
            "2024-01-25 07:33:51 (9.15 MB/s) - ‘photo-1608848461950-0fe51dfc41cb?q=80&w=1000&auto=format&fit=crop&ixlib=rb-4.0.3&ixid=M3wxMjA3fDB8MHxleHBsb3JlLWZlZWR8MXx8fGVufDB8fHx8fA==’ saved [247743/247743]\n",
            "\n"
          ]
        }
      ],
      "source": [
        "!wget \"https://images.unsplash.com/photo-1608848461950-0fe51dfc41cb?q=80&w=1000&auto=format&fit=crop&ixlib=rb-4.0.3&ixid=M3wxMjA3fDB8MHxleHBsb3JlLWZlZWR8MXx8fGVufDB8fHx8fA%3D%3D\""
      ]
    },
    {
      "cell_type": "code",
      "execution_count": null,
      "metadata": {
        "colab": {
          "background_save": true,
          "base_uri": "https://localhost:8080/"
        },
        "id": "M3fkbF4AoCiu",
        "outputId": "0d7c5717-ea45-42a8-c6fb-f3ffa530bd8b"
      },
      "outputs": [
        {
          "name": "stdout",
          "output_type": "stream",
          "text": [
            "--2024-01-25 07:33:51--  https://hips.hearstapps.com/hmg-prod/images/cute-photos-of-cats-looking-at-camera-1593184780.jpg?crop=0.6672958942897593xw:1xh\n",
            "Resolving hips.hearstapps.com (hips.hearstapps.com)... 151.101.0.155, 151.101.64.155, 151.101.128.155, ...\n",
            "Connecting to hips.hearstapps.com (hips.hearstapps.com)|151.101.0.155|:443... connected.\n",
            "HTTP request sent, awaiting response... 200 OK\n",
            "Length: 405900 (396K) [image/jpeg]\n",
            "Saving to: ‘cute-photos-of-cats-looking-at-camera-1593184780.jpg?crop=0.6672958942897593xw:1xh’\n",
            "\n",
            "\r          cute-phot   0%[                    ]       0  --.-KB/s               \rcute-photos-of-cats 100%[===================>] 396.39K  --.-KB/s    in 0.04s   \n",
            "\n",
            "2024-01-25 07:33:51 (10.8 MB/s) - ‘cute-photos-of-cats-looking-at-camera-1593184780.jpg?crop=0.6672958942897593xw:1xh’ saved [405900/405900]\n",
            "\n",
            "/bin/bash: line 1: center,top: command not found\n"
          ]
        }
      ],
      "source": [
        "!wget https://hips.hearstapps.com/hmg-prod/images/cute-photos-of-cats-looking-at-camera-1593184780.jpg?crop=0.6672958942897593xw:1xh;center,top&resize=980:*"
      ]
    },
    {
      "cell_type": "code",
      "execution_count": null,
      "metadata": {
        "colab": {
          "background_save": true,
          "base_uri": "https://localhost:8080/"
        },
        "id": "l-L0ZrrjpBDY",
        "outputId": "f7dd1f83-b06d-4cd3-86d1-d906a0cae1b7"
      },
      "outputs": [
        {
          "name": "stdout",
          "output_type": "stream",
          "text": [
            "--2024-01-25 07:33:52--  https://encrypted-tbn0.gstatic.com/images?q=tbn:ANd9GcRGgeo7VOHs_czZU74yX0-tLStjSy2b9MDw5Id4SmOk_V8PS9vFW1kHnQz5vw\n",
            "/bin/bash: line 1: s: command not found\n",
            "Resolving encrypted-tbn0.gstatic.com (encrypted-tbn0.gstatic.com)... 173.194.193.138, 173.194.193.100, 173.194.193.139, ...\n",
            "Connecting to encrypted-tbn0.gstatic.com (encrypted-tbn0.gstatic.com)|173.194.193.138|:443... connected.\n",
            "HTTP request sent, awaiting response... 200 OK\n",
            "Length: 5382 (5.3K) [image/jpeg]\n",
            "Saving to: ‘images?q=tbn:ANd9GcRGgeo7VOHs_czZU74yX0-tLStjSy2b9MDw5Id4SmOk_V8PS9vFW1kHnQz5vw’\n",
            "\n",
            "\r          images?q=   0%[                    ]       0  --.-KB/s               \rimages?q=tbn:ANd9Gc 100%[===================>]   5.26K  --.-KB/s    in 0s      \n",
            "\n",
            "2024-01-25 07:33:52 (38.5 MB/s) - ‘images?q=tbn:ANd9GcRGgeo7VOHs_czZU74yX0-tLStjSy2b9MDw5Id4SmOk_V8PS9vFW1kHnQz5vw’ saved [5382/5382]\n",
            "\n"
          ]
        }
      ],
      "source": [
        "!wget https://encrypted-tbn0.gstatic.com/images?q=tbn:ANd9GcRGgeo7VOHs_czZU74yX0-tLStjSy2b9MDw5Id4SmOk_V8PS9vFW1kHnQz5vw&s"
      ]
    },
    {
      "cell_type": "code",
      "execution_count": null,
      "metadata": {
        "colab": {
          "background_save": true
        },
        "id": "sy4axPid3sQj"
      },
      "outputs": [],
      "source": [
        "# Read some sample images\n",
        "\n",
        "cat1 = plt.imread(\"/content/photo-1608848461950-0fe51dfc41cb?q=80&w=1000&auto=format&fit=crop&ixlib=rb-4.0.3&ixid=M3wxMjA3fDB8MHxleHBsb3JlLWZlZWR8MXx8fGVufDB8fHx8fA==\")\n",
        "cat2 = plt.imread(\"/content/cute-photos-of-cats-looking-at-camera-1593184780.jpg?crop=0.6672958942897593xw:1xh\")\n",
        "dog = plt.imread(\"/content/images?q=tbn:ANd9GcRGgeo7VOHs_czZU74yX0-tLStjSy2b9MDw5Id4SmOk_V8PS9vFW1kHnQz5vw\")\n",
        "\n",
        "def to_torch(x):\n",
        "    x = cv2.resize(x, (256, 256))\n",
        "    x = np.transpose(x, (2, 0, 1))\n",
        "    x = np.expand_dims(x, 0)\n",
        "    x = torch.Tensor(x)/127.5 - 1\n",
        "    return x\n",
        "\n",
        "def to_tf(x):\n",
        "    x = tf.image.resize(x, (256, 256))\n",
        "    x = tf.expand_dims(x, 0)\n",
        "    x = tf.transpose(x, (0, 3, 1, 2))\n",
        "    return x/255\n",
        "\n",
        "\n",
        "dogth = to_torch(dog)\n",
        "cat1th = to_torch(cat1)\n",
        "cat2th = to_torch(cat2)\n",
        "\n",
        "dogtf = to_tf(dog)\n",
        "cat1tf = to_tf(cat1)\n",
        "cat2tf = to_tf(cat2)\n"
      ]
    },
    {
      "cell_type": "code",
      "execution_count": null,
      "metadata": {
        "colab": {
          "base_uri": "https://localhost:8080/"
        },
        "id": "xmLhb6LuFEzj",
        "outputId": "102ee72c-4b24-4f64-e057-b626aad69a60"
      },
      "outputs": [
        {
          "data": {
            "text/plain": [
              "tensor([[[[-0.0310]]]])"
            ]
          },
          "execution_count": 19,
          "metadata": {},
          "output_type": "execute_result"
        }
      ],
      "source": [
        "torch_model(cat1th, cat2th)"
      ]
    },
    {
      "cell_type": "code",
      "execution_count": null,
      "metadata": {
        "colab": {
          "base_uri": "https://localhost:8080/"
        },
        "id": "5tDjohPCFu7m",
        "outputId": "773d62e5-e035-4801-ac72-40d7ba4f435d"
      },
      "outputs": [
        {
          "name": "stdout",
          "output_type": "stream",
          "text": [
            "Cloning into 'VQGAN-pytorch'...\n",
            "remote: Enumerating objects: 34, done.\u001b[K\n",
            "remote: Counting objects: 100% (14/14), done.\u001b[K\n",
            "remote: Compressing objects: 100% (12/12), done.\u001b[K\n",
            "remote: Total 34 (delta 10), reused 2 (delta 2), pack-reused 20\u001b[K\n",
            "Receiving objects: 100% (34/34), 20.71 KiB | 2.59 MiB/s, done.\n",
            "Resolving deltas: 100% (10/10), done.\n"
          ]
        }
      ],
      "source": []
    },
    {
      "cell_type": "markdown",
      "metadata": {
        "id": "TOpyQspSpy55"
      },
      "source": [
        "Export the torch model using ***torch.onnx.export***"
      ]
    },
    {
      "cell_type": "code",
      "execution_count": null,
      "metadata": {
        "id": "XYxqcVYt87Mm"
      },
      "outputs": [],
      "source": [
        "torch.onnx.export(torch_model, (cat1th, dogth), '/content/onnx_model.onnx', verbose=True,\n",
        "                  input_names = ['onnx__Sub_0', 'onnx__Sub_1'],\n",
        "                  dynamic_axes={'onnx__Sub_0' : {0 : 'batch_size'},\n",
        "                                'onnx__Sub_1' : {0 : 'batch_size'}})"
      ]
    },
    {
      "cell_type": "markdown",
      "metadata": {
        "id": "Q97AHhq2qElD"
      },
      "source": [
        "Load the exported onnx model"
      ]
    },
    {
      "cell_type": "code",
      "execution_count": null,
      "metadata": {
        "colab": {
          "base_uri": "https://localhost:8080/"
        },
        "id": "pNgpMzEk9GWQ",
        "outputId": "d78a0197-ac42-47bc-8f81-b2609f63d93c"
      },
      "outputs": [
        {
          "name": "stdout",
          "output_type": "stream",
          "text": [
            "Model Inputs:  ['onnx__Sub_0', 'onnx__Sub_1']\n",
            "Model Outputs:  ['198']\n"
          ]
        }
      ],
      "source": [
        "onnx_model = onnx.load(\"/content/onnx_model.onnx\")\n",
        "print(\"Model Inputs: \", [inp.name for inp in onnx_model.graph.input])\n",
        "print(\"Model Outputs: \", [inp.name for inp in onnx_model.graph.output])"
      ]
    },
    {
      "cell_type": "markdown",
      "metadata": {
        "id": "8llG2v85qKsW"
      },
      "source": [
        "Export the onnx model to tensorflow SavedModel format"
      ]
    },
    {
      "cell_type": "code",
      "execution_count": null,
      "metadata": {
        "colab": {
          "base_uri": "https://localhost:8080/"
        },
        "id": "bzGzYCvr9gjs",
        "outputId": "c64017b6-6f1e-4a64-abb0-10bf438395ef"
      },
      "outputs": [
        {
          "name": "stderr",
          "output_type": "stream",
          "text": [
            "INFO:absl:Function `__call__` contains input name(s) onnx__Sub_0, onnx__Sub_1, x, y with unsupported characters which will be renamed to onnx__sub_0, onnx__sub_1, transpose_106_x, add_12_y in the SavedModel.\n",
            "INFO:absl:Found untraced functions such as gen_tensor_dict while saving (showing 1 of 1). These functions will not be directly callable after loading.\n",
            "INFO:absl:Writing fingerprint to lpips_tfmodel/fingerprint.pb\n"
          ]
        }
      ],
      "source": [
        "tf_rep = prepare(onnx_model)\n",
        "tf_rep.export_graph(\"lpips_tfmodel\")"
      ]
    },
    {
      "cell_type": "markdown",
      "metadata": {
        "id": "FSUeQqDRqPzb"
      },
      "source": [
        "Load the SavedModel graph"
      ]
    },
    {
      "cell_type": "code",
      "execution_count": null,
      "metadata": {
        "id": "QQ4MdfSGgahV"
      },
      "outputs": [],
      "source": [
        "tf_model = tf.saved_model.load(\"/content/lpips_tfmodel\")"
      ]
    },
    {
      "cell_type": "markdown",
      "metadata": {
        "id": "MUlly8MTqVSC"
      },
      "source": [
        "Check for similar results between tensorflow model and torch model"
      ]
    },
    {
      "cell_type": "code",
      "execution_count": null,
      "metadata": {
        "colab": {
          "base_uri": "https://localhost:8080/"
        },
        "id": "BD636eMXgkME",
        "outputId": "c34f8c59-658a-49d9-99a7-f19531d5f631"
      },
      "outputs": [
        {
          "data": {
            "text/plain": [
              "(0.82056785, array(0.81845164, dtype=float32))"
            ]
          },
          "execution_count": 36,
          "metadata": {},
          "output_type": "execute_result"
        }
      ],
      "source": [
        "tf.squeeze(tf_model(onnx__Sub_0=cat2tf, onnx__Sub_1=dogtf)['198']).numpy(), np.squeeze(torch_model(cat2th, dogth).numpy())"
      ]
    },
    {
      "cell_type": "code",
      "execution_count": null,
      "metadata": {
        "colab": {
          "base_uri": "https://localhost:8080/"
        },
        "id": "ShPzFy1qni6U",
        "outputId": "d2b8fd21-f0ce-41be-e5a6-4a774a972fd5"
      },
      "outputs": [
        {
          "data": {
            "text/plain": [
              "(0.7577424, array(0.74933845, dtype=float32))"
            ]
          },
          "execution_count": 37,
          "metadata": {},
          "output_type": "execute_result"
        }
      ],
      "source": [
        "tf.squeeze(tf_model(onnx__Sub_0=cat1tf, onnx__Sub_1=dogtf)['198']).numpy(), np.squeeze(torch_model(cat1th, dogth).numpy())"
      ]
    },
    {
      "cell_type": "code",
      "execution_count": null,
      "metadata": {
        "colab": {
          "base_uri": "https://localhost:8080/"
        },
        "id": "jT7tNlCMoSu-",
        "outputId": "c6bd8aa5-909c-4ba4-98ad-eedf3f24a4d1"
      },
      "outputs": [
        {
          "data": {
            "text/plain": [
              "(0.5406259, array(0.5387178, dtype=float32))"
            ]
          },
          "execution_count": 38,
          "metadata": {},
          "output_type": "execute_result"
        }
      ],
      "source": [
        "tf.squeeze(tf_model(onnx__Sub_0=cat2tf, onnx__Sub_1=cat1tf)['198']).numpy(), np.squeeze(torch_model(cat2th, cat1th).numpy())"
      ]
    },
    {
      "cell_type": "code",
      "execution_count": null,
      "metadata": {
        "colab": {
          "base_uri": "https://localhost:8080/"
        },
        "id": "IlrwdvapomLG",
        "outputId": "fad9358d-8d60-41e2-e8ba-8955b3be29bc"
      },
      "outputs": [
        {
          "data": {
            "text/plain": [
              "(TensorShape([3, 3, 256, 256]), TensorShape([3, 3, 256, 256]))"
            ]
          },
          "execution_count": 19,
          "metadata": {},
          "output_type": "execute_result"
        }
      ],
      "source": [
        "x1 = tf.concat((cat1tf, cat2tf, dogtf), axis=0)\n",
        "x2 = tf.concat((dogtf, cat1tf, cat2tf), axis=0)\n",
        "x1.shape, x2.shape"
      ]
    },
    {
      "cell_type": "code",
      "execution_count": null,
      "metadata": {
        "colab": {
          "base_uri": "https://localhost:8080/"
        },
        "id": "OgBdwopgpC6-",
        "outputId": "a75101be-52cb-4eef-cbd9-7179fecf79d6"
      },
      "outputs": [
        {
          "data": {
            "text/plain": [
              "array([0.7577424 , 0.54062593, 0.82056785], dtype=float32)"
            ]
          },
          "execution_count": 20,
          "metadata": {},
          "output_type": "execute_result"
        }
      ],
      "source": [
        "tf.squeeze(tf_model(onnx__Sub_0=x1, onnx__Sub_1=x2)['198']).numpy()"
      ]
    },
    {
      "cell_type": "code",
      "execution_count": null,
      "metadata": {
        "colab": {
          "base_uri": "https://localhost:8080/",
          "height": 36
        },
        "id": "gn7yoNPAqloT",
        "outputId": "8d417084-2af1-405d-eb35-cd9e57247138"
      },
      "outputs": [
        {
          "data": {
            "application/vnd.google.colaboratory.intrinsic+json": {
              "type": "string"
            },
            "text/plain": [
              "'/content/lpips_tensorflow_format.zip'"
            ]
          },
          "execution_count": 21,
          "metadata": {},
          "output_type": "execute_result"
        }
      ],
      "source": [
        "import shutil\n",
        "shutil.make_archive(\"lpips_tensorflow_format\", \"zip\", \"/content/lpips_tfmodel\")"
      ]
    },
    {
      "cell_type": "code",
      "execution_count": null,
      "metadata": {
        "id": "kAe-2VnWb_-j"
      },
      "outputs": [],
      "source": []
    }
  ],
  "metadata": {
    "accelerator": "GPU",
    "colab": {
      "provenance": []
    },
    "kernelspec": {
      "display_name": "Python 3",
      "name": "python3"
    },
    "language_info": {
      "name": "python"
    }
  },
  "nbformat": 4,
  "nbformat_minor": 0
}